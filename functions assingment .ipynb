{
 "cells": [
  {
   "cell_type": "code",
   "execution_count": 11,
   "id": "62081f3c-8813-4906-b5bc-322969ef0b48",
   "metadata": {},
   "outputs": [
    {
     "name": "stdout",
     "output_type": "stream",
     "text": [
      "select\n",
      "1. Add\n",
      "2. Sub\n",
      "3. Mul\n",
      "4. Div\n"
     ]
    },
    {
     "name": "stdin",
     "output_type": "stream",
     "text": [
      "Enter choice (1/2/3/4):  1\n",
      "Enter first number:  23\n",
      "Enter second number:  22\n"
     ]
    },
    {
     "name": "stdout",
     "output_type": "stream",
     "text": [
      "Result: 45.0\n"
     ]
    }
   ],
   "source": [
    "#Make a calculator using function.\n",
    "def add(n1,n2):\n",
    "    return n1+n2\n",
    "def sub(n1,n2):\n",
    "    return n1_n2\n",
    "def mul(n1,n2):\n",
    "    return n1*n2\n",
    "def div(n1,n2):\n",
    "    return n1/n2\n",
    "    \n",
    "print(\"select\")\n",
    "print(\"1. Add\")\n",
    "print(\"2. Sub\")\n",
    "print(\"3. Mul\")\n",
    "print(\"4. Div\")\n",
    "    \n",
    "choice = input(\"Enter choice (1/2/3/4): \")\n",
    "num1 = float(input(\"Enter first number: \"))\n",
    "num2 = float(input(\"Enter second number: \"))\n",
    "if choice == '1':\n",
    "    print(\"Result:\", add(num1, num2))\n",
    "elif choice == '2':\n",
    "    print(\"Result:\", sub(num1, num2))\n",
    "elif choice =='3':\n",
    "     print(\"Result:\", mul(num1,num2))\n",
    "elif choice =='4':\n",
    "    print(\"Result:\", div(num1,num2))\n",
    "else:\n",
    "    print(\"invalid input\")"
   ]
  },
  {
   "cell_type": "code",
   "execution_count": 18,
   "id": "c2240597-239e-4b3e-b5ac-388c2c23e001",
   "metadata": {},
   "outputs": [],
   "source": [
    "#Calculate sum of first n numbers.\n",
    "def s(p):\n",
    "    total=0 \n",
    "    for i in range(1,p+1):\n",
    "      total += i \n",
    "    return (total)\n",
    "    "
   ]
  },
  {
   "cell_type": "code",
   "execution_count": 9,
   "id": "714146f4-d9fd-4228-ab35-c91109f40305",
   "metadata": {},
   "outputs": [
    {
     "name": "stdout",
     "output_type": "stream",
     "text": [
      "[1, 2, 3, 4, 5]\n"
     ]
    }
   ],
   "source": [
    "#Write a python function that takes a list and returns a new list with unique elements of the first list\n",
    "def get_unique_elements(input_list):\n",
    "    unique_list = []\n",
    "    for item in input_list:\n",
    "        if item not in unique_list:\n",
    "            unique_list.append(item)\n",
    "    return unique_list\n",
    "\n",
    "\n",
    "my_list = [1, 2, 2, 3, 4, 4, 5]\n",
    "print(get_unique_elements(my_list))\n"
   ]
  },
  {
   "cell_type": "code",
   "execution_count": 51,
   "id": "1731cb60-31b1-40e1-b9d6-ceb586317c57",
   "metadata": {},
   "outputs": [
    {
     "name": "stdin",
     "output_type": "stream",
     "text": [
      "Enter first number:  4\n",
      "Enter second number:  7\n"
     ]
    },
    {
     "name": "stdout",
     "output_type": "stream",
     "text": [
      "Maximum number is: 7.0\n",
      "Minimum number is: 4.0\n"
     ]
    }
   ],
   "source": [
    "# Function to find maximum\n",
    "def find_max(a, b):\n",
    "    if a > b:\n",
    "        return a\n",
    "    else:\n",
    "        return b\n",
    "\n",
    "def find_min(a, b):\n",
    "    if a < b:\n",
    "        return a\n",
    "    else:\n",
    "        return b\n",
    "\n",
    "num1 = float(input(\"Enter first number: \"))\n",
    "num2 = float(input(\"Enter second number: \"))\n",
    "\n",
    "print(\"Maximum number is:\", find_max(num1, num2))\n",
    "print(\"Minimum number is:\", find_min(num1, num2))\n"
   ]
  },
  {
   "cell_type": "code",
   "execution_count": 53,
   "id": "1c7dfa31-c099-4182-a338-1145cf06faa8",
   "metadata": {},
   "outputs": [
    {
     "name": "stdin",
     "output_type": "stream",
     "text": [
      "Enter a string:  HellO\n"
     ]
    },
    {
     "name": "stdout",
     "output_type": "stream",
     "text": [
      "Uppercase letters: 2\n",
      "Lowercase letters: 3\n"
     ]
    }
   ],
   "source": [
    "# Find the number of uppercases and lowercases letters in string\n",
    "def count_cases(s):\n",
    "    upper = sum(1 for ch in s if ch.isupper())\n",
    "    lower = sum(1 for ch in s if ch.islower())\n",
    "    return upper, lower\n",
    "\n",
    "text = input(\"Enter a string: \")\n",
    "\n",
    "u, l = count_cases(text)\n",
    "print(\"Uppercase letters:\", u)\n",
    "print(\"Lowercase letters:\", l)\n"
   ]
  },
  {
   "cell_type": "code",
   "execution_count": 56,
   "id": "670fdf3e-d84f-4550-b42a-cf38461d658c",
   "metadata": {},
   "outputs": [
    {
     "name": "stdin",
     "output_type": "stream",
     "text": [
      "Enter a number:  3\n"
     ]
    },
    {
     "name": "stdout",
     "output_type": "stream",
     "text": [
      "3 is a prime number\n"
     ]
    }
   ],
   "source": [
    "n = int(input(\"Enter a number: \"))\n",
    "\n",
    "if n > 1:\n",
    "    for i in range(2, n):\n",
    "        if n % i == 0:\n",
    "            print(n, \"is not a prime number\")\n",
    "            break\n",
    "    else:\n",
    "        print(n, \"is a prime number\")\n"
   ]
  },
  {
   "cell_type": "code",
   "execution_count": 58,
   "id": "f545b56a-c327-4ac4-81c7-0c9674bff2c6",
   "metadata": {},
   "outputs": [
    {
     "name": "stdin",
     "output_type": "stream",
     "text": [
      "Enter how many powers of 2 to display:  5\n"
     ]
    },
    {
     "name": "stdout",
     "output_type": "stream",
     "text": [
      "Powers of 2 are: [1, 2, 4, 8, 16]\n"
     ]
    }
   ],
   "source": [
    "## Display the powers of 2 using anonymous functions\n",
    "# Take input\n",
    "n = int(input(\"Enter how many powers of 2 to display: \"))\n",
    "\n",
    "# Use lambda with map\n",
    "result = list(map(lambda x: 2**x, range(n)))\n",
    "\n",
    "# Print result\n",
    "print(\"Powers of 2 are:\", result)\n",
    "\n"
   ]
  },
  {
   "cell_type": "code",
   "execution_count": 11,
   "id": "ed0232d7-96d7-4190-806c-ccc6a83e80ca",
   "metadata": {},
   "outputs": [
    {
     "name": "stdout",
     "output_type": "stream",
     "text": [
      "Key is present\n",
      "Key is not present\n"
     ]
    }
   ],
   "source": [
    "#Write a function check(key) which takes a key as an argument and \n",
    "#check whether that key is present in dictionary or not.\n",
    "def check(key):\n",
    "    d = {'a': 1, 'b': 2, 'c': 3}\n",
    "    if key in d:\n",
    "        print(\"Key is present\")\n",
    "    else:\n",
    "        print(\"Key is not present\")\n",
    "\n",
    "\n",
    "check('a')  \n",
    "check('z')  \n",
    "\n"
   ]
  },
  {
   "cell_type": "code",
   "execution_count": 15,
   "id": "40842cef-70de-44e3-a197-d073b547273b",
   "metadata": {},
   "outputs": [
    {
     "name": "stdout",
     "output_type": "stream",
     "text": [
      "4\n",
      "4\n"
     ]
    }
   ],
   "source": [
    "#Write the output of the following :\n",
    "def s(a):\n",
    "def s(a):\n",
    "     print(a)\n",
    "     a = a +2\n",
    "n2=4\n",
    "s(n2)\n",
    "print(n2)\n",
    "output is \n",
    "4\n",
    "4"
   ]
  },
  {
   "cell_type": "code",
   "execution_count": null,
   "id": "67960717-8425-4610-a338-4b3c08d28145",
   "metadata": {},
   "outputs": [],
   "source": [
    "# Write the output of the following:\n",
    "def cal(m,n):\n",
    "     if m==n:\n",
    "          return m*3\n",
    "     else:\n",
    "          return m*2\n",
    "s = cal(9, 8)\n",
    "print(s)\n",
    "output will be 18 because the m==!n(9==!8)\n"
   ]
  },
  {
   "cell_type": "markdown",
   "id": "9c4d6e2d-c7d3-4cdf-925e-694932352bfb",
   "metadata": {},
   "source": [
    "# Write the output of the following:\n",
    "def check():\n",
    "   i = 5\n",
    "   while i > 1: #(true)\n",
    "         if i //2==0:\n",
    "              x = i + 2 #(5-2=3)(false)\n",
    "              i = i-1#(3-1=2)\n",
    "        else:\n",
    "             i = i-2 #(2-1=1) false \n",
    "             x = i\n",
    "   print (x)\n",
    "check()\n",
    "# output is 1 because 1st condition didnt get satisfied"
   ]
  },
  {
   "cell_type": "code",
   "execution_count": null,
   "id": "764ab532-9f95-4f6a-b23d-41d0e8b0942b",
   "metadata": {},
   "outputs": [],
   "source": [
    "# What will be the output of the following code?\n",
    "x = 3\n",
    "def myfunc():\n",
    "      global x\n",
    "      x+=2\n",
    "     print(x, end=' ')\n",
    "print(x, end=' ')\n",
    "myfunc()\n",
    "print(x, end=' ')\n",
    "#output will be 3,5,5 because the print functions call here 3 times \n"
   ]
  },
  {
   "cell_type": "code",
   "execution_count": null,
   "id": "6386fa27-5b80-4525-978f-fc49043b438e",
   "metadata": {},
   "outputs": [],
   "source": [
    "#13. What will be the output of the following code?\n",
    "value = 50\n",
    "def display(N):\n",
    "     global value\n",
    "     value = 25\n",
    "     if N%7==0:\n",
    "           value = value + N\n",
    "    else:\n",
    "           value = value - N \n",
    "print(value, end=\"#\")\n",
    "display(20)\n",
    "print(value)\n",
    "#output will be 50#5\n"
   ]
  },
  {
   "cell_type": "code",
   "execution_count": null,
   "id": "d4f71936-96a0-4f90-ad85-796428382987",
   "metadata": {},
   "outputs": [],
   "source": [
    "#What is the output of the following code snippet?\n",
    "def ChangeVal(M,N):\n",
    "     for i in range(N):\n",
    "          if M[i]%5 == 0:\n",
    "               M[i]//=5\n",
    "          if M[i]%3 == 0:\n",
    "               M[i]//=3\n",
    "L = [25,8,75,12]\n",
    "ChangeVal(L,4)\n",
    "for i in L:\n",
    "     print(i,end=\"#\")\n",
    "\n",
    "    #output is 5#8#5#4#"
   ]
  },
  {
   "cell_type": "code",
   "execution_count": null,
   "id": "846e3ccd-74cb-4c22-889f-5257172fcc03",
   "metadata": {},
   "outputs": [],
   "source": [
    "#Write the output of the following:\n",
    "def c(x, y):\n",
    "    if x % y :\n",
    "         return x+5\n",
    "    else:\n",
    "        return y+10\n",
    "print(c(20, 5))\n",
    "#output is 15 because 20%5=0\n",
    "else y+ 10=5+10=(15)"
   ]
  }
 ],
 "metadata": {
  "kernelspec": {
   "display_name": "Python 3 (ipykernel)",
   "language": "python",
   "name": "python3"
  },
  "language_info": {
   "codemirror_mode": {
    "name": "ipython",
    "version": 3
   },
   "file_extension": ".py",
   "mimetype": "text/x-python",
   "name": "python",
   "nbconvert_exporter": "python",
   "pygments_lexer": "ipython3",
   "version": "3.13.3"
  }
 },
 "nbformat": 4,
 "nbformat_minor": 5
}
